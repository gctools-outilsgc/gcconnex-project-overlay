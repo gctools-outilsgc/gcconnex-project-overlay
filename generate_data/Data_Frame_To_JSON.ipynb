{
 "cells": [
  {
   "cell_type": "code",
   "execution_count": null,
   "metadata": {
    "collapsed": true
   },
   "outputs": [],
   "source": [
    "import pandas as pd\n",
    "import json"
   ]
  },
  {
   "cell_type": "code",
   "execution_count": null,
   "metadata": {
    "collapsed": true
   },
   "outputs": [],
   "source": [
    "def nest_for_json(df, groupbycol, nestcol, newcolname):\n",
    "    \n",
    "    new_df = (df.groupby(groupbycol)\n",
    "              .apply(lambda x: x[nestcol].values)\n",
    "              .drop_duplicates()\n",
    "              .reset_index()\n",
    "              .rename(columns={0:newcolname}))\n",
    "    \n",
    "    new_df[newcolname] = new_df[newcolname].apply(lambda x: list(set(x)))\n",
    "    \n",
    "    return new_df\n",
    "    \n",
    "\n",
    "def returning_top_tags(df, n=10):\n",
    "    return(df\n",
    " .groupby(['content_audience', 'content_tag'],sort=True)\n",
    " .count()\n",
    " .reset_index()\n",
    " .groupby(['content_audience'])\n",
    " .apply(lambda x: x.nlargest(n, 'guid'))\n",
    " [['content_tag', 'guid']]\n",
    " .reset_index()\n",
    " .drop('level_1',1)\n",
    " .rename({'guid':'count'})\n",
    ")"
   ]
  },
  {
   "cell_type": "code",
   "execution_count": null,
   "metadata": {},
   "outputs": [],
   "source": [
    "df = pd.read_csv(\"group_content_tags.csv\")\n",
    "\n",
    "\n",
    "#top_tags = df.content_tag.value_counts()[1:11].index\n",
    "\n",
    "x = returning_top_tags(df, 1)\n",
    "\n",
    "df = df[df.content_tag.isin(x.content_tag)]\n",
    "df.drop_duplicates(inplace=True)"
   ]
  },
  {
   "cell_type": "code",
   "execution_count": null,
   "metadata": {
    "collapsed": true
   },
   "outputs": [],
   "source": [
    "df.dropna(inplace=True)"
   ]
  },
  {
   "cell_type": "code",
   "execution_count": null,
   "metadata": {},
   "outputs": [],
   "source": [
    "nest_for_json(df,['guid', 'name', 'description', 'content_guid'],\n",
    "             'group_tag',\n",
    "             'group_tags')"
   ]
  },
  {
   "cell_type": "code",
   "execution_count": null,
   "metadata": {
    "collapsed": true
   },
   "outputs": [],
   "source": [
    "content = df[['content_guid' ,'subtype', 'time_created', 'content_tag', 'content_audience']]\n",
    "groups = df[['guid', 'name', 'description', 'group_tag', 'content_guid']]"
   ]
  },
  {
   "cell_type": "code",
   "execution_count": null,
   "metadata": {
    "collapsed": true
   },
   "outputs": [],
   "source": [
    "groups_tags = (groups\n",
    " .groupby(['guid', 'name', 'description', 'content_guid'], as_index=False)\n",
    " .apply(lambda x:x['group_tag'].values)\n",
    " .drop_duplicates()\n",
    " .reset_index()\n",
    " .rename(columns={0:\"group_tags\"}))\n",
    "groups_tags['group_tags'] = groups_tags['group_tags'].apply(lambda x: list(set(x)))"
   ]
  },
  {
   "cell_type": "code",
   "execution_count": null,
   "metadata": {
    "collapsed": true
   },
   "outputs": [],
   "source": [
    "groups_content_tags = (groups\n",
    " .groupby('guid', as_index=True)\n",
    " .apply(lambda x:x['content_guid'].values)\n",
    " .drop_duplicates()\n",
    " .reset_index()\n",
    " .rename(columns={0:\"content_tags\", 'index':'guid'}))\n",
    "groups_content_tags['content_tags'] = groups_content_tags['content_tags'].apply(lambda x: list(set(x)))"
   ]
  },
  {
   "cell_type": "code",
   "execution_count": null,
   "metadata": {
    "collapsed": true
   },
   "outputs": [],
   "source": [
    "content_tags = (content\n",
    " .groupby(['content_guid', 'subtype', 'time_created'], as_index=False)\n",
    " .apply(lambda x:x['content_tag'].values)\n",
    " .drop_duplicates()\n",
    " .reset_index()\n",
    " .rename(columns={0:\"tags\"}))\n",
    "content_tags['tags'] = content_tags['tags'].apply(lambda x: list(set(x)))"
   ]
  },
  {
   "cell_type": "code",
   "execution_count": null,
   "metadata": {
    "collapsed": true
   },
   "outputs": [],
   "source": [
    "content_audiences = (content\n",
    " .groupby(['content_guid', 'subtype', 'time_created'], as_index=False)\n",
    " .apply(lambda x: x['content_audience'].values)\n",
    " .drop_duplicates()\n",
    " .reset_index()\n",
    " .rename(columns={0:\"audience\"}))\n",
    "\n",
    "content_audiences['audience'] = content_audiences['audience'].apply(lambda x: list(set(x)))"
   ]
  },
  {
   "cell_type": "code",
   "execution_count": null,
   "metadata": {
    "collapsed": true
   },
   "outputs": [],
   "source": [
    "nested_content = pd.merge(content_tags,content_audiences, how='left')\n",
    "nested_content_dict =nested_content.drop_duplicates('content_guid').set_index('content_guid').to_dict('index')"
   ]
  },
  {
   "cell_type": "code",
   "execution_count": null,
   "metadata": {
    "collapsed": true
   },
   "outputs": [],
   "source": [
    "nested_content_dict\n",
    "\n",
    "for key, value in nested_content_dict.items():\n",
    "    nested_content_dict[key]['guid'] = key"
   ]
  },
  {
   "cell_type": "code",
   "execution_count": null,
   "metadata": {
    "collapsed": true
   },
   "outputs": [],
   "source": [
    "groups_tags = pd.merge(groups_tags, groups_content_tags)\n",
    "groups_tags = groups_tags[groups_tags['content_guid'].isin(nested_content.content_guid)]\n",
    "\n",
    "groups_dict = groups_tags.set_index('guid').to_dict('index')"
   ]
  },
  {
   "cell_type": "code",
   "execution_count": null,
   "metadata": {
    "collapsed": true
   },
   "outputs": [],
   "source": [
    "for key, val in groups_dict.items():\n",
    "    val['children'] = []\n",
    "for key, val in groups_dict.items():\n",
    "    try:\n",
    "        for guid in val['content_tags']:\n",
    "            val['children'].append(nested_content_dict[guid])\n",
    "    except:\n",
    "        pass"
   ]
  },
  {
   "cell_type": "code",
   "execution_count": null,
   "metadata": {
    "collapsed": true
   },
   "outputs": [],
   "source": [
    "groups_json = json.dumps(groups_dict, indent=4)"
   ]
  },
  {
   "cell_type": "code",
   "execution_count": null,
   "metadata": {
    "collapsed": true
   },
   "outputs": [],
   "source": [
    "# Reverse method time\n",
    "\n",
    "\n",
    "comm_content_tags = nest_for_json(df, 'content_audience', 'content_tag', 'content_tags')\n",
    "content_groups = nest_for_json(df,['content_audience', 'content_tag'],'guid','groups')\n",
    "\n"
   ]
  },
  {
   "cell_type": "code",
   "execution_count": null,
   "metadata": {
    "collapsed": true
   },
   "outputs": [],
   "source": [
    "comm_content_tags.rename(columns={'content_audience':'name'}, inplace=True)"
   ]
  },
  {
   "cell_type": "code",
   "execution_count": null,
   "metadata": {
    "collapsed": true
   },
   "outputs": [],
   "source": [
    "comm_content_tags['free'] = True\n",
    "comm_content_tags['project'] =  False\n",
    "content_groups['free'] = True\n",
    "content_groups['project'] = False\n"
   ]
  },
  {
   "cell_type": "code",
   "execution_count": null,
   "metadata": {
    "collapsed": true
   },
   "outputs": [],
   "source": [
    "communities_dict= comm_content_tags.to_dict('r')"
   ]
  },
  {
   "cell_type": "code",
   "execution_count": null,
   "metadata": {
    "collapsed": true
   },
   "outputs": [],
   "source": [
    "content_list = content_groups.set_index('content_audience').to_dict('r')"
   ]
  },
  {
   "cell_type": "code",
   "execution_count": null,
   "metadata": {
    "collapsed": true
   },
   "outputs": [],
   "source": [
    "#Nesting tags\n",
    "for d in communities_dict:\n",
    "    d['children'] = []\n",
    "\n",
    "\n",
    "for item in content_list:\n",
    "    content_tag = item['content_tag']\n",
    "    for d in communities_dict:\n",
    "        if content_tag in d['content_tags']:\n",
    "            d['children'].append(item)\n"
   ]
  },
  {
   "cell_type": "code",
   "execution_count": null,
   "metadata": {
    "collapsed": true
   },
   "outputs": [],
   "source": [
    "groups_for_json = groups[['guid', 'name', 'description']].drop_duplicates()\n",
    "groups_for_json['project'] = False\n",
    "\n",
    "groups_for_json.loc[groups_for_json.sample(10).index, 'project'] = True\n",
    "\n",
    "groups_for_json=groups_for_json[groups_for_json.project == True]\n",
    "\n",
    "groups_dict = groups_for_json.to_dict('r')\n",
    "\n",
    "for d in groups_dict:\n",
    "    d['free'] = True"
   ]
  },
  {
   "cell_type": "code",
   "execution_count": null,
   "metadata": {
    "collapsed": true
   },
   "outputs": [],
   "source": [
    "#Nesting Groups\n",
    "for value_ in communities_dict:\n",
    "    for content in value_['children']:\n",
    "        content['children'] = []\n",
    "\n",
    "\n",
    "for item in groups_dict:\n",
    "    for value_ in communities_dict:\n",
    "        for content in value_['children']:\n",
    "            if item['guid'] in content['groups']:\n",
    "                \n",
    "                if item not in content['children']:\n",
    "                    content['children'].append(item.copy())\n",
    "        \n",
    "for value_ in communities_dict:\n",
    "    for content in value_['children']:\n",
    "        content.pop('groups', None)"
   ]
  },
  {
   "cell_type": "code",
   "execution_count": null,
   "metadata": {},
   "outputs": [],
   "source": [
    "groups_for_json.head()"
   ]
  },
  {
   "cell_type": "code",
   "execution_count": null,
   "metadata": {
    "collapsed": true
   },
   "outputs": [],
   "source": [
    "final_dict = {}\n",
    "final_dict['name'] = 'Communities'\n",
    "final_dict['free'] = True\n",
    "final_dict['project'] = False\n",
    "final_dict['children'] = communities_dict"
   ]
  },
  {
   "cell_type": "code",
   "execution_count": null,
   "metadata": {
    "collapsed": true
   },
   "outputs": [],
   "source": [
    "with open('new_data.json', 'w') as f:\n",
    "     strang = json.loads(json.dumps(final_dict, indent=4, separators=(',', ':')).replace('\"content_tag\"','\"name\"'))\n",
    "     json.dump(strang, f, indent=4, separators=(',', ':'))"
   ]
  },
  {
   "cell_type": "code",
   "execution_count": null,
   "metadata": {
    "collapsed": true
   },
   "outputs": [],
   "source": [
    "with open('data.json', 'w') as f:\n",
    "     json.dump(communities_dict, f, indent=4, separators=(',', ':'))"
   ]
  }
 ],
 "metadata": {
  "kernelspec": {
   "display_name": "Python 3",
   "language": "python",
   "name": "python3"
  },
  "language_info": {
   "codemirror_mode": {
    "name": "ipython",
    "version": 3
   },
   "file_extension": ".py",
   "mimetype": "text/x-python",
   "name": "python",
   "nbconvert_exporter": "python",
   "pygments_lexer": "ipython3",
   "version": "3.6.1"
  }
 },
 "nbformat": 4,
 "nbformat_minor": 2
}
